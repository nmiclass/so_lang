{
 "cells": [
  {
   "cell_type": "markdown",
   "id": "fa026a27",
   "metadata": {},
   "source": [
    "Questions to answer:\n",
    "\n",
    "What programming languages are most popular?\n",
    "\n",
    "What languages do people want to use next year?\n",
    "\n",
    "How do languages relate to the age of the programmer?"
   ]
  },
  {
   "cell_type": "markdown",
   "id": "6f2802a5",
   "metadata": {},
   "source": [
    "# Import data"
   ]
  },
  {
   "cell_type": "code",
   "execution_count": 1,
   "id": "7039843f",
   "metadata": {},
   "outputs": [
    {
     "name": "stdout",
     "output_type": "stream",
     "text": [
      "--2023-06-30 13:15:04--  https://info.stackoverflowsolutions.com/rs/719-EMH-566/images/stack-overflow-developer-survey-2022.zip\n",
      "Resolving info.stackoverflowsolutions.com (info.stackoverflowsolutions.com)... 104.17.71.206, 104.17.72.206, 104.17.73.206, ...\n",
      "Connecting to info.stackoverflowsolutions.com (info.stackoverflowsolutions.com)|104.17.71.206|:443... connected.\n",
      "HTTP request sent, awaiting response... 304 Not Modified\n",
      "File ‘stack-overflow-developer-survey-2022.zip’ not modified on server. Omitting download.\n",
      "\n",
      "Archive:  stack-overflow-developer-survey-2022.zip\n"
     ]
    }
   ],
   "source": [
    "import pandas as pd\n",
    "import matplotlib.pyplot as plt\n",
    "\n",
    "# download and import data from 2022 Stack Overflow survey\n",
    "# https://insights.stackoverflow.com/survey\n",
    "!wget -N https://info.stackoverflowsolutions.com/rs/719-EMH-566/images/stack-overflow-developer-survey-2022.zip\n",
    "# If files with the same names already exist, they will be left as-is,\n",
    "# thus one must be careful if these files are from a different dataset.\n",
    "!unzip -n stack-overflow-developer-survey-2022.zip\n",
    "    \n",
    "df = pd.read_csv('./survey_results_public.csv')\n",
    "schema = pd.read_csv('./survey_results_schema.csv')"
   ]
  },
  {
   "cell_type": "markdown",
   "id": "b9269aa8",
   "metadata": {},
   "source": [
    "# Inspect data"
   ]
  },
  {
   "cell_type": "code",
   "execution_count": 2,
   "id": "45c7e3dc",
   "metadata": {},
   "outputs": [
    {
     "data": {
      "text/html": [
       "<div>\n",
       "<style scoped>\n",
       "    .dataframe tbody tr th:only-of-type {\n",
       "        vertical-align: middle;\n",
       "    }\n",
       "\n",
       "    .dataframe tbody tr th {\n",
       "        vertical-align: top;\n",
       "    }\n",
       "\n",
       "    .dataframe thead th {\n",
       "        text-align: right;\n",
       "    }\n",
       "</style>\n",
       "<table border=\"1\" class=\"dataframe\">\n",
       "  <thead>\n",
       "    <tr style=\"text-align: right;\">\n",
       "      <th></th>\n",
       "      <th>ResponseId</th>\n",
       "      <th>MainBranch</th>\n",
       "      <th>Employment</th>\n",
       "      <th>RemoteWork</th>\n",
       "      <th>CodingActivities</th>\n",
       "      <th>EdLevel</th>\n",
       "      <th>LearnCode</th>\n",
       "      <th>LearnCodeOnline</th>\n",
       "      <th>LearnCodeCoursesCert</th>\n",
       "      <th>YearsCode</th>\n",
       "      <th>...</th>\n",
       "      <th>TimeSearching</th>\n",
       "      <th>TimeAnswering</th>\n",
       "      <th>Onboarding</th>\n",
       "      <th>ProfessionalTech</th>\n",
       "      <th>TrueFalse_1</th>\n",
       "      <th>TrueFalse_2</th>\n",
       "      <th>TrueFalse_3</th>\n",
       "      <th>SurveyLength</th>\n",
       "      <th>SurveyEase</th>\n",
       "      <th>ConvertedCompYearly</th>\n",
       "    </tr>\n",
       "  </thead>\n",
       "  <tbody>\n",
       "    <tr>\n",
       "      <th>0</th>\n",
       "      <td>1</td>\n",
       "      <td>None of these</td>\n",
       "      <td>NaN</td>\n",
       "      <td>NaN</td>\n",
       "      <td>NaN</td>\n",
       "      <td>NaN</td>\n",
       "      <td>NaN</td>\n",
       "      <td>NaN</td>\n",
       "      <td>NaN</td>\n",
       "      <td>NaN</td>\n",
       "      <td>...</td>\n",
       "      <td>NaN</td>\n",
       "      <td>NaN</td>\n",
       "      <td>NaN</td>\n",
       "      <td>NaN</td>\n",
       "      <td>NaN</td>\n",
       "      <td>NaN</td>\n",
       "      <td>NaN</td>\n",
       "      <td>NaN</td>\n",
       "      <td>NaN</td>\n",
       "      <td>NaN</td>\n",
       "    </tr>\n",
       "    <tr>\n",
       "      <th>1</th>\n",
       "      <td>2</td>\n",
       "      <td>I am a developer by profession</td>\n",
       "      <td>Employed, full-time</td>\n",
       "      <td>Fully remote</td>\n",
       "      <td>Hobby;Contribute to open-source projects</td>\n",
       "      <td>NaN</td>\n",
       "      <td>NaN</td>\n",
       "      <td>NaN</td>\n",
       "      <td>NaN</td>\n",
       "      <td>NaN</td>\n",
       "      <td>...</td>\n",
       "      <td>NaN</td>\n",
       "      <td>NaN</td>\n",
       "      <td>NaN</td>\n",
       "      <td>NaN</td>\n",
       "      <td>NaN</td>\n",
       "      <td>NaN</td>\n",
       "      <td>NaN</td>\n",
       "      <td>Too long</td>\n",
       "      <td>Difficult</td>\n",
       "      <td>NaN</td>\n",
       "    </tr>\n",
       "    <tr>\n",
       "      <th>2</th>\n",
       "      <td>3</td>\n",
       "      <td>I am not primarily a developer, but I write co...</td>\n",
       "      <td>Employed, full-time</td>\n",
       "      <td>Hybrid (some remote, some in-person)</td>\n",
       "      <td>Hobby</td>\n",
       "      <td>Master’s degree (M.A., M.S., M.Eng., MBA, etc.)</td>\n",
       "      <td>Books / Physical media;Friend or family member...</td>\n",
       "      <td>Technical documentation;Blogs;Programming Game...</td>\n",
       "      <td>NaN</td>\n",
       "      <td>14</td>\n",
       "      <td>...</td>\n",
       "      <td>NaN</td>\n",
       "      <td>NaN</td>\n",
       "      <td>NaN</td>\n",
       "      <td>NaN</td>\n",
       "      <td>NaN</td>\n",
       "      <td>NaN</td>\n",
       "      <td>NaN</td>\n",
       "      <td>Appropriate in length</td>\n",
       "      <td>Neither easy nor difficult</td>\n",
       "      <td>40205.0</td>\n",
       "    </tr>\n",
       "    <tr>\n",
       "      <th>3</th>\n",
       "      <td>4</td>\n",
       "      <td>I am a developer by profession</td>\n",
       "      <td>Employed, full-time</td>\n",
       "      <td>Fully remote</td>\n",
       "      <td>I don’t code outside of work</td>\n",
       "      <td>Bachelor’s degree (B.A., B.S., B.Eng., etc.)</td>\n",
       "      <td>Books / Physical media;School (i.e., Universit...</td>\n",
       "      <td>NaN</td>\n",
       "      <td>NaN</td>\n",
       "      <td>20</td>\n",
       "      <td>...</td>\n",
       "      <td>NaN</td>\n",
       "      <td>NaN</td>\n",
       "      <td>NaN</td>\n",
       "      <td>NaN</td>\n",
       "      <td>NaN</td>\n",
       "      <td>NaN</td>\n",
       "      <td>NaN</td>\n",
       "      <td>Appropriate in length</td>\n",
       "      <td>Easy</td>\n",
       "      <td>215232.0</td>\n",
       "    </tr>\n",
       "    <tr>\n",
       "      <th>4</th>\n",
       "      <td>5</td>\n",
       "      <td>I am a developer by profession</td>\n",
       "      <td>Employed, full-time</td>\n",
       "      <td>Hybrid (some remote, some in-person)</td>\n",
       "      <td>Hobby</td>\n",
       "      <td>Bachelor’s degree (B.A., B.S., B.Eng., etc.)</td>\n",
       "      <td>Other online resources (e.g., videos, blogs, f...</td>\n",
       "      <td>Technical documentation;Blogs;Stack Overflow;O...</td>\n",
       "      <td>NaN</td>\n",
       "      <td>8</td>\n",
       "      <td>...</td>\n",
       "      <td>NaN</td>\n",
       "      <td>NaN</td>\n",
       "      <td>NaN</td>\n",
       "      <td>NaN</td>\n",
       "      <td>NaN</td>\n",
       "      <td>NaN</td>\n",
       "      <td>NaN</td>\n",
       "      <td>Too long</td>\n",
       "      <td>Easy</td>\n",
       "      <td>NaN</td>\n",
       "    </tr>\n",
       "  </tbody>\n",
       "</table>\n",
       "<p>5 rows × 79 columns</p>\n",
       "</div>"
      ],
      "text/plain": [
       "   ResponseId                                         MainBranch  \\\n",
       "0           1                                      None of these   \n",
       "1           2                     I am a developer by profession   \n",
       "2           3  I am not primarily a developer, but I write co...   \n",
       "3           4                     I am a developer by profession   \n",
       "4           5                     I am a developer by profession   \n",
       "\n",
       "            Employment                            RemoteWork  \\\n",
       "0                  NaN                                   NaN   \n",
       "1  Employed, full-time                          Fully remote   \n",
       "2  Employed, full-time  Hybrid (some remote, some in-person)   \n",
       "3  Employed, full-time                          Fully remote   \n",
       "4  Employed, full-time  Hybrid (some remote, some in-person)   \n",
       "\n",
       "                           CodingActivities  \\\n",
       "0                                       NaN   \n",
       "1  Hobby;Contribute to open-source projects   \n",
       "2                                     Hobby   \n",
       "3              I don’t code outside of work   \n",
       "4                                     Hobby   \n",
       "\n",
       "                                           EdLevel  \\\n",
       "0                                              NaN   \n",
       "1                                              NaN   \n",
       "2  Master’s degree (M.A., M.S., M.Eng., MBA, etc.)   \n",
       "3     Bachelor’s degree (B.A., B.S., B.Eng., etc.)   \n",
       "4     Bachelor’s degree (B.A., B.S., B.Eng., etc.)   \n",
       "\n",
       "                                           LearnCode  \\\n",
       "0                                                NaN   \n",
       "1                                                NaN   \n",
       "2  Books / Physical media;Friend or family member...   \n",
       "3  Books / Physical media;School (i.e., Universit...   \n",
       "4  Other online resources (e.g., videos, blogs, f...   \n",
       "\n",
       "                                     LearnCodeOnline LearnCodeCoursesCert  \\\n",
       "0                                                NaN                  NaN   \n",
       "1                                                NaN                  NaN   \n",
       "2  Technical documentation;Blogs;Programming Game...                  NaN   \n",
       "3                                                NaN                  NaN   \n",
       "4  Technical documentation;Blogs;Stack Overflow;O...                  NaN   \n",
       "\n",
       "  YearsCode  ... TimeSearching TimeAnswering Onboarding ProfessionalTech  \\\n",
       "0       NaN  ...           NaN           NaN        NaN              NaN   \n",
       "1       NaN  ...           NaN           NaN        NaN              NaN   \n",
       "2        14  ...           NaN           NaN        NaN              NaN   \n",
       "3        20  ...           NaN           NaN        NaN              NaN   \n",
       "4         8  ...           NaN           NaN        NaN              NaN   \n",
       "\n",
       "  TrueFalse_1 TrueFalse_2 TrueFalse_3           SurveyLength  \\\n",
       "0         NaN         NaN         NaN                    NaN   \n",
       "1         NaN         NaN         NaN               Too long   \n",
       "2         NaN         NaN         NaN  Appropriate in length   \n",
       "3         NaN         NaN         NaN  Appropriate in length   \n",
       "4         NaN         NaN         NaN               Too long   \n",
       "\n",
       "                   SurveyEase ConvertedCompYearly  \n",
       "0                         NaN                 NaN  \n",
       "1                   Difficult                 NaN  \n",
       "2  Neither easy nor difficult             40205.0  \n",
       "3                        Easy            215232.0  \n",
       "4                        Easy                 NaN  \n",
       "\n",
       "[5 rows x 79 columns]"
      ]
     },
     "execution_count": 2,
     "metadata": {},
     "output_type": "execute_result"
    }
   ],
   "source": [
    "# take a look at data\n",
    "df.head()"
   ]
  },
  {
   "cell_type": "code",
   "execution_count": 3,
   "id": "e60d7282",
   "metadata": {},
   "outputs": [
    {
     "data": {
      "text/html": [
       "<div>\n",
       "<style scoped>\n",
       "    .dataframe tbody tr th:only-of-type {\n",
       "        vertical-align: middle;\n",
       "    }\n",
       "\n",
       "    .dataframe tbody tr th {\n",
       "        vertical-align: top;\n",
       "    }\n",
       "\n",
       "    .dataframe thead th {\n",
       "        text-align: right;\n",
       "    }\n",
       "</style>\n",
       "<table border=\"1\" class=\"dataframe\">\n",
       "  <thead>\n",
       "    <tr style=\"text-align: right;\">\n",
       "      <th></th>\n",
       "      <th>qid</th>\n",
       "      <th>qname</th>\n",
       "      <th>question</th>\n",
       "      <th>force_resp</th>\n",
       "      <th>type</th>\n",
       "      <th>selector</th>\n",
       "    </tr>\n",
       "  </thead>\n",
       "  <tbody>\n",
       "    <tr>\n",
       "      <th>0</th>\n",
       "      <td>QID16</td>\n",
       "      <td>S0</td>\n",
       "      <td>&lt;div&gt;&lt;span style=\"font-size:19px;\"&gt;&lt;strong&gt;Hel...</td>\n",
       "      <td>False</td>\n",
       "      <td>DB</td>\n",
       "      <td>TB</td>\n",
       "    </tr>\n",
       "    <tr>\n",
       "      <th>1</th>\n",
       "      <td>QID12</td>\n",
       "      <td>MetaInfo</td>\n",
       "      <td>Browser Meta Info</td>\n",
       "      <td>False</td>\n",
       "      <td>Meta</td>\n",
       "      <td>Browser</td>\n",
       "    </tr>\n",
       "    <tr>\n",
       "      <th>2</th>\n",
       "      <td>QID1</td>\n",
       "      <td>S1</td>\n",
       "      <td>&lt;span style=\"font-size:22px; font-family: aria...</td>\n",
       "      <td>False</td>\n",
       "      <td>DB</td>\n",
       "      <td>TB</td>\n",
       "    </tr>\n",
       "    <tr>\n",
       "      <th>3</th>\n",
       "      <td>QID2</td>\n",
       "      <td>MainBranch</td>\n",
       "      <td>Which of the following options best describes ...</td>\n",
       "      <td>True</td>\n",
       "      <td>MC</td>\n",
       "      <td>SAVR</td>\n",
       "    </tr>\n",
       "    <tr>\n",
       "      <th>4</th>\n",
       "      <td>QID296</td>\n",
       "      <td>Employment</td>\n",
       "      <td>Which of the following best describes your cur...</td>\n",
       "      <td>False</td>\n",
       "      <td>MC</td>\n",
       "      <td>MAVR</td>\n",
       "    </tr>\n",
       "  </tbody>\n",
       "</table>\n",
       "</div>"
      ],
      "text/plain": [
       "      qid       qname                                           question  \\\n",
       "0   QID16          S0  <div><span style=\"font-size:19px;\"><strong>Hel...   \n",
       "1   QID12    MetaInfo                                  Browser Meta Info   \n",
       "2    QID1          S1  <span style=\"font-size:22px; font-family: aria...   \n",
       "3    QID2  MainBranch  Which of the following options best describes ...   \n",
       "4  QID296  Employment  Which of the following best describes your cur...   \n",
       "\n",
       "  force_resp  type selector  \n",
       "0      False    DB       TB  \n",
       "1      False  Meta  Browser  \n",
       "2      False    DB       TB  \n",
       "3       True    MC     SAVR  \n",
       "4      False    MC     MAVR  "
      ]
     },
     "execution_count": 3,
     "metadata": {},
     "output_type": "execute_result"
    }
   ],
   "source": [
    "# take a look at schema\n",
    "schema.head()"
   ]
  },
  {
   "cell_type": "code",
   "execution_count": 4,
   "id": "0da5c68f",
   "metadata": {},
   "outputs": [
    {
     "name": "stdout",
     "output_type": "stream",
     "text": [
      "Language\n"
     ]
    }
   ],
   "source": [
    "# see what \"qname\" relates to language in schema\n",
    "for qname in list(schema.qname):\n",
    "    if 'lang' in qname.lower():\n",
    "        print(qname)"
   ]
  },
  {
   "cell_type": "code",
   "execution_count": 5,
   "id": "0bd337cc",
   "metadata": {},
   "outputs": [
    {
     "data": {
      "text/plain": [
       "['Which <b>programming, scripting, and markup languages</b> have you done extensive development work in over the past year, and which do you want to work in over the next year? (If you both worked with the language and want to continue to do so, please check both boxes in that row.)']"
      ]
     },
     "execution_count": 5,
     "metadata": {},
     "output_type": "execute_result"
    }
   ],
   "source": [
    "# verify question being asked\n",
    "list(schema[schema['qname']=='Language']['question'])"
   ]
  },
  {
   "cell_type": "code",
   "execution_count": 6,
   "id": "2dd5145c",
   "metadata": {},
   "outputs": [
    {
     "name": "stdout",
     "output_type": "stream",
     "text": [
      "LanguageHaveWorkedWith\n",
      "LanguageWantToWorkWith\n"
     ]
    }
   ],
   "source": [
    "# see what columns correspond to language in df\n",
    "for col in list(df.columns):\n",
    "    if 'lang' in col.lower():\n",
    "        print(col)"
   ]
  },
  {
   "cell_type": "code",
   "execution_count": 7,
   "id": "b77854fd",
   "metadata": {},
   "outputs": [
    {
     "data": {
      "text/plain": [
       "0                                                      NaN\n",
       "1                                    JavaScript;TypeScript\n",
       "2                        C#;C++;HTML/CSS;JavaScript;Python\n",
       "3                             C#;JavaScript;SQL;TypeScript\n",
       "4              C#;HTML/CSS;JavaScript;SQL;Swift;TypeScript\n",
       "                               ...                        \n",
       "73263    Bash/Shell;Dart;JavaScript;PHP;Python;SQL;Type...\n",
       "73264            Bash/Shell;HTML/CSS;JavaScript;Python;SQL\n",
       "73265                   HTML/CSS;JavaScript;PHP;Python;SQL\n",
       "73266                                        C#;Delphi;VBA\n",
       "73267          C#;JavaScript;Lua;PowerShell;SQL;TypeScript\n",
       "Name: LanguageHaveWorkedWith, Length: 73268, dtype: object"
      ]
     },
     "execution_count": 7,
     "metadata": {},
     "output_type": "execute_result"
    }
   ],
   "source": [
    "df['LanguageHaveWorkedWith']"
   ]
  },
  {
   "cell_type": "markdown",
   "id": "b092fc13",
   "metadata": {},
   "source": [
    "# Clean up data"
   ]
  },
  {
   "cell_type": "code",
   "execution_count": 8,
   "id": "a08bd760",
   "metadata": {},
   "outputs": [
    {
     "data": {
      "text/html": [
       "<div>\n",
       "<style scoped>\n",
       "    .dataframe tbody tr th:only-of-type {\n",
       "        vertical-align: middle;\n",
       "    }\n",
       "\n",
       "    .dataframe tbody tr th {\n",
       "        vertical-align: top;\n",
       "    }\n",
       "\n",
       "    .dataframe thead th {\n",
       "        text-align: right;\n",
       "    }\n",
       "</style>\n",
       "<table border=\"1\" class=\"dataframe\">\n",
       "  <thead>\n",
       "    <tr style=\"text-align: right;\">\n",
       "      <th></th>\n",
       "      <th>index</th>\n",
       "      <th>LanguageHaveWorkedWith</th>\n",
       "    </tr>\n",
       "  </thead>\n",
       "  <tbody>\n",
       "    <tr>\n",
       "      <th>0</th>\n",
       "      <td>HTML/CSS;JavaScript;TypeScript</td>\n",
       "      <td>1250</td>\n",
       "    </tr>\n",
       "    <tr>\n",
       "      <th>1</th>\n",
       "      <td>Python</td>\n",
       "      <td>962</td>\n",
       "    </tr>\n",
       "    <tr>\n",
       "      <th>2</th>\n",
       "      <td>HTML/CSS;JavaScript</td>\n",
       "      <td>914</td>\n",
       "    </tr>\n",
       "    <tr>\n",
       "      <th>3</th>\n",
       "      <td>HTML/CSS;JavaScript;PHP;SQL</td>\n",
       "      <td>745</td>\n",
       "    </tr>\n",
       "    <tr>\n",
       "      <th>4</th>\n",
       "      <td>C#;HTML/CSS;JavaScript;SQL;TypeScript</td>\n",
       "      <td>570</td>\n",
       "    </tr>\n",
       "    <tr>\n",
       "      <th>...</th>\n",
       "      <td>...</td>\n",
       "      <td>...</td>\n",
       "    </tr>\n",
       "    <tr>\n",
       "      <th>25063</th>\n",
       "      <td>C#;Java;JavaScript;PHP;PowerShell;SQL;TypeScript</td>\n",
       "      <td>1</td>\n",
       "    </tr>\n",
       "    <tr>\n",
       "      <th>25064</th>\n",
       "      <td>C++;HTML/CSS;JavaScript;Python;Solidity;SQL</td>\n",
       "      <td>1</td>\n",
       "    </tr>\n",
       "    <tr>\n",
       "      <th>25065</th>\n",
       "      <td>Dart;Haskell;HTML/CSS;Java;R;SQL;TypeScript</td>\n",
       "      <td>1</td>\n",
       "    </tr>\n",
       "    <tr>\n",
       "      <th>25066</th>\n",
       "      <td>Bash/Shell;C;C#;Go;HTML/CSS;Java;JavaScript;Lu...</td>\n",
       "      <td>1</td>\n",
       "    </tr>\n",
       "    <tr>\n",
       "      <th>25067</th>\n",
       "      <td>C#;JavaScript;Lua;PowerShell;SQL;TypeScript</td>\n",
       "      <td>1</td>\n",
       "    </tr>\n",
       "  </tbody>\n",
       "</table>\n",
       "<p>25068 rows × 2 columns</p>\n",
       "</div>"
      ],
      "text/plain": [
       "                                                   index  \\\n",
       "0                         HTML/CSS;JavaScript;TypeScript   \n",
       "1                                                 Python   \n",
       "2                                    HTML/CSS;JavaScript   \n",
       "3                            HTML/CSS;JavaScript;PHP;SQL   \n",
       "4                  C#;HTML/CSS;JavaScript;SQL;TypeScript   \n",
       "...                                                  ...   \n",
       "25063   C#;Java;JavaScript;PHP;PowerShell;SQL;TypeScript   \n",
       "25064        C++;HTML/CSS;JavaScript;Python;Solidity;SQL   \n",
       "25065        Dart;Haskell;HTML/CSS;Java;R;SQL;TypeScript   \n",
       "25066  Bash/Shell;C;C#;Go;HTML/CSS;Java;JavaScript;Lu...   \n",
       "25067        C#;JavaScript;Lua;PowerShell;SQL;TypeScript   \n",
       "\n",
       "       LanguageHaveWorkedWith  \n",
       "0                        1250  \n",
       "1                         962  \n",
       "2                         914  \n",
       "3                         745  \n",
       "4                         570  \n",
       "...                       ...  \n",
       "25063                       1  \n",
       "25064                       1  \n",
       "25065                       1  \n",
       "25066                       1  \n",
       "25067                       1  \n",
       "\n",
       "[25068 rows x 2 columns]"
      ]
     },
     "execution_count": 8,
     "metadata": {},
     "output_type": "execute_result"
    }
   ],
   "source": [
    "# languages people worked with this year\n",
    "lang_used_raw = df['LanguageHaveWorkedWith'].value_counts().reset_index()\n",
    "lang_used_raw"
   ]
  },
  {
   "cell_type": "code",
   "execution_count": 9,
   "id": "7f285420",
   "metadata": {},
   "outputs": [
    {
     "data": {
      "text/html": [
       "<div>\n",
       "<style scoped>\n",
       "    .dataframe tbody tr th:only-of-type {\n",
       "        vertical-align: middle;\n",
       "    }\n",
       "\n",
       "    .dataframe tbody tr th {\n",
       "        vertical-align: top;\n",
       "    }\n",
       "\n",
       "    .dataframe thead th {\n",
       "        text-align: right;\n",
       "    }\n",
       "</style>\n",
       "<table border=\"1\" class=\"dataframe\">\n",
       "  <thead>\n",
       "    <tr style=\"text-align: right;\">\n",
       "      <th></th>\n",
       "      <th>language</th>\n",
       "      <th>count</th>\n",
       "    </tr>\n",
       "  </thead>\n",
       "  <tbody>\n",
       "    <tr>\n",
       "      <th>0</th>\n",
       "      <td>HTML/CSS;JavaScript;TypeScript</td>\n",
       "      <td>1250</td>\n",
       "    </tr>\n",
       "    <tr>\n",
       "      <th>1</th>\n",
       "      <td>Python</td>\n",
       "      <td>962</td>\n",
       "    </tr>\n",
       "    <tr>\n",
       "      <th>2</th>\n",
       "      <td>HTML/CSS;JavaScript</td>\n",
       "      <td>914</td>\n",
       "    </tr>\n",
       "    <tr>\n",
       "      <th>3</th>\n",
       "      <td>HTML/CSS;JavaScript;PHP;SQL</td>\n",
       "      <td>745</td>\n",
       "    </tr>\n",
       "    <tr>\n",
       "      <th>4</th>\n",
       "      <td>C#;HTML/CSS;JavaScript;SQL;TypeScript</td>\n",
       "      <td>570</td>\n",
       "    </tr>\n",
       "    <tr>\n",
       "      <th>...</th>\n",
       "      <td>...</td>\n",
       "      <td>...</td>\n",
       "    </tr>\n",
       "    <tr>\n",
       "      <th>25063</th>\n",
       "      <td>C#;Java;JavaScript;PHP;PowerShell;SQL;TypeScript</td>\n",
       "      <td>1</td>\n",
       "    </tr>\n",
       "    <tr>\n",
       "      <th>25064</th>\n",
       "      <td>C++;HTML/CSS;JavaScript;Python;Solidity;SQL</td>\n",
       "      <td>1</td>\n",
       "    </tr>\n",
       "    <tr>\n",
       "      <th>25065</th>\n",
       "      <td>Dart;Haskell;HTML/CSS;Java;R;SQL;TypeScript</td>\n",
       "      <td>1</td>\n",
       "    </tr>\n",
       "    <tr>\n",
       "      <th>25066</th>\n",
       "      <td>Bash/Shell;C;C#;Go;HTML/CSS;Java;JavaScript;Lu...</td>\n",
       "      <td>1</td>\n",
       "    </tr>\n",
       "    <tr>\n",
       "      <th>25067</th>\n",
       "      <td>C#;JavaScript;Lua;PowerShell;SQL;TypeScript</td>\n",
       "      <td>1</td>\n",
       "    </tr>\n",
       "  </tbody>\n",
       "</table>\n",
       "<p>25068 rows × 2 columns</p>\n",
       "</div>"
      ],
      "text/plain": [
       "                                                language  count\n",
       "0                         HTML/CSS;JavaScript;TypeScript   1250\n",
       "1                                                 Python    962\n",
       "2                                    HTML/CSS;JavaScript    914\n",
       "3                            HTML/CSS;JavaScript;PHP;SQL    745\n",
       "4                  C#;HTML/CSS;JavaScript;SQL;TypeScript    570\n",
       "...                                                  ...    ...\n",
       "25063   C#;Java;JavaScript;PHP;PowerShell;SQL;TypeScript      1\n",
       "25064        C++;HTML/CSS;JavaScript;Python;Solidity;SQL      1\n",
       "25065        Dart;Haskell;HTML/CSS;Java;R;SQL;TypeScript      1\n",
       "25066  Bash/Shell;C;C#;Go;HTML/CSS;Java;JavaScript;Lu...      1\n",
       "25067        C#;JavaScript;Lua;PowerShell;SQL;TypeScript      1\n",
       "\n",
       "[25068 rows x 2 columns]"
      ]
     },
     "execution_count": 9,
     "metadata": {},
     "output_type": "execute_result"
    }
   ],
   "source": [
    "lang_used_raw.rename(columns={'index': 'language', 'LanguageHaveWorkedWith': 'count'},\n",
    "                 inplace=True)\n",
    "lang_used_raw"
   ]
  },
  {
   "cell_type": "code",
   "execution_count": 10,
   "id": "f9543838",
   "metadata": {},
   "outputs": [],
   "source": [
    "# languages people want to work with next year\n",
    "lang_want_raw = df['LanguageWantToWorkWith'].value_counts().reset_index()\n",
    "lang_want_raw.rename(columns={'index': 'language', 'LanguageWantToWorkWith': 'count'},\n",
    "                 inplace=True)"
   ]
  },
  {
   "cell_type": "code",
   "execution_count": 11,
   "id": "cea6569b",
   "metadata": {},
   "outputs": [
    {
     "data": {
      "text/plain": [
       "{'APL',\n",
       " 'Assembly',\n",
       " 'Bash/Shell',\n",
       " 'C',\n",
       " 'C#',\n",
       " 'C++',\n",
       " 'COBOL',\n",
       " 'Clojure',\n",
       " 'Crystal',\n",
       " 'Dart',\n",
       " 'Delphi',\n",
       " 'Elixir',\n",
       " 'Erlang',\n",
       " 'F#',\n",
       " 'Fortran',\n",
       " 'Go',\n",
       " 'Groovy',\n",
       " 'HTML/CSS',\n",
       " 'Haskell',\n",
       " 'Java',\n",
       " 'JavaScript',\n",
       " 'Julia',\n",
       " 'Kotlin',\n",
       " 'LISP',\n",
       " 'Lua',\n",
       " 'MATLAB',\n",
       " 'OCaml',\n",
       " 'Objective-C',\n",
       " 'PHP',\n",
       " 'Perl',\n",
       " 'PowerShell',\n",
       " 'Python',\n",
       " 'R',\n",
       " 'Ruby',\n",
       " 'Rust',\n",
       " 'SAS',\n",
       " 'SQL',\n",
       " 'Scala',\n",
       " 'Solidity',\n",
       " 'Swift',\n",
       " 'TypeScript',\n",
       " 'VBA'}"
      ]
     },
     "execution_count": 11,
     "metadata": {},
     "output_type": "execute_result"
    }
   ],
   "source": [
    "# parse out the set of languages in the survey\n",
    "langs = set()\n",
    "\n",
    "# iterate through all responses\n",
    "for response in lang_used_raw.language:\n",
    "    # responses have multiple languages separated by \";\"\n",
    "    for lang in response.split(';'):\n",
    "        langs.add(lang)\n",
    "\n",
    "langs"
   ]
  },
  {
   "cell_type": "code",
   "execution_count": 12,
   "id": "d6a3eb69",
   "metadata": {},
   "outputs": [],
   "source": [
    "# count up how many times each language is used by a respondent\n",
    "lang_used_dict = {}\n",
    "for lang in langs:\n",
    "    lang_used_dict[lang] = 0\n",
    "    for response in lang_used_raw.language:\n",
    "        if lang in response:\n",
    "            lang_used_dict[lang] += 1\n",
    "# make pandas dataframe\n",
    "lang_used = pd.DataFrame(pd.Series(lang_used_dict)).reset_index()\n",
    "lang_used.columns = ['language', 'count']\n",
    "lang_used.set_index('language', inplace=True)\n",
    "lang_used.sort_values('count', ascending=False, inplace=True)\n",
    "\n",
    "# count up how many times each language a respondent wants to use next year\n",
    "lang_want_dict = {}\n",
    "for lang in langs:\n",
    "    lang_want_dict[lang] = 0\n",
    "    for response in lang_want_raw.language:\n",
    "        if lang in response:\n",
    "            lang_want_dict[lang] += 1\n",
    "# make pandas dataframe\n",
    "lang_want = pd.DataFrame(pd.Series(lang_want_dict)).reset_index()\n",
    "lang_want.columns = ['language', 'count']\n",
    "lang_want.set_index('language', inplace=True)\n",
    "lang_want.sort_values('count', ascending=False, inplace=True)"
   ]
  },
  {
   "cell_type": "code",
   "execution_count": 22,
   "id": "2cbabcd7",
   "metadata": {},
   "outputs": [],
   "source": [
    "# trend in usage vs desirability\n",
    "des_dict = {}\n",
    "for lang in langs:\n",
    "    des_dict[lang] = lang_want_dict[lang]/lang_want_raw.shape[0] - lang_used_dict[lang]/lang_used_raw.shape[0]\n",
    "des = pd.DataFrame(pd.Series(des_dict)).reset_index()\n",
    "des.columns = ['language', 'fraction']\n",
    "des.set_index('language', inplace=True)\n",
    "des.sort_values('fraction', ascending=False, inplace=True)"
   ]
  },
  {
   "cell_type": "markdown",
   "id": "ca16d921",
   "metadata": {},
   "source": [
    "# Analyze results"
   ]
  },
  {
   "cell_type": "code",
   "execution_count": 23,
   "id": "42851ba8",
   "metadata": {},
   "outputs": [
    {
     "data": {
      "text/plain": [
       "Text(0, 0.5, 'Fraction who desire - fraction who use')"
      ]
     },
     "execution_count": 23,
     "metadata": {},
     "output_type": "execute_result"
    },
    {
     "data": {
      "image/png": "[encoded data removed]",
      "text/plain": [
       "<Figure size 576x360 with 1 Axes>"
      ]
     },
     "metadata": {
      "needs_background": "light"
     },
     "output_type": "display_data"
    },
    {
     "data": {
      "image/png": "[encoded data removed]",
      "text/plain": [
       "<Figure size 576x360 with 1 Axes>"
      ]
     },
     "metadata": {
      "needs_background": "light"
     },
     "output_type": "display_data"
    },
    {
     "data": {
      "image/png": "[encoded data removed]",
      "text/plain": [
       "<Figure size 576x360 with 1 Axes>"
      ]
     },
     "metadata": {
      "needs_background": "light"
     },
     "output_type": "display_data"
    }
   ],
   "source": [
    "(lang_used/lang_used_raw.shape[0]).plot(kind='bar', legend=None, color=\"#000099\", figsize=(8, 5))\n",
    "plt.title('Programming Languages Used')\n",
    "plt.xlabel('Langauge')\n",
    "plt.ylabel('Fraction who use')\n",
    "\n",
    "(lang_want/lang_want_raw.shape[0]).plot(kind='bar', legend=None, color=\"#009900\", figsize=(8, 5))\n",
    "plt.title('Programming Languages Desired')\n",
    "plt.xlabel('Langauge')\n",
    "plt.ylabel('Fraction who use')\n",
    "\n",
    "(des).plot(kind='bar', legend=None, color=\"#990000\", figsize=(8, 5))\n",
    "plt.title('Programming Language Usage vs Desirability')\n",
    "plt.xlabel('Langauge')\n",
    "plt.ylabel('Fraction who desire - fraction who use')"
   ]
  },
  {
   "cell_type": "markdown",
   "id": "144e2581",
   "metadata": {},
   "source": [
    "# Inspect programmer's age vs language"
   ]
  },
  {
   "cell_type": "code",
   "execution_count": 196,
   "id": "7815f4f9",
   "metadata": {},
   "outputs": [
    {
     "name": "stdout",
     "output_type": "stream",
     "text": [
      "Language\n",
      "Age\n",
      "SOTeamsUsage\n"
     ]
    }
   ],
   "source": [
    "# see what \"qname\" relates to happiness or mental health in schema\n",
    "for qname in list(schema.qname):\n",
    "    if 'age' in qname.lower():\n",
    "        print(qname)"
   ]
  },
  {
   "cell_type": "code",
   "execution_count": 197,
   "id": "100139e3",
   "metadata": {},
   "outputs": [
    {
     "data": {
      "text/plain": [
       "['What is your age?']"
      ]
     },
     "execution_count": 197,
     "metadata": {},
     "output_type": "execute_result"
    }
   ],
   "source": [
    "# verify question being asked\n",
    "list(schema[schema['qname']=='Age']['question'])"
   ]
  },
  {
   "cell_type": "code",
   "execution_count": 199,
   "id": "46f0576d",
   "metadata": {},
   "outputs": [
    {
     "name": "stdout",
     "output_type": "stream",
     "text": [
      "LanguageHaveWorkedWith\n",
      "LanguageWantToWorkWith\n",
      "Age\n"
     ]
    }
   ],
   "source": [
    "# see what columns correspond to age in df\n",
    "for col in list(df.columns):\n",
    "    if 'age' in col.lower():\n",
    "        print(col)"
   ]
  },
  {
   "cell_type": "code",
   "execution_count": 200,
   "id": "3c847302",
   "metadata": {},
   "outputs": [
    {
     "data": {
      "text/plain": [
       "0                    NaN\n",
       "1                    NaN\n",
       "2        25-34 years old\n",
       "3        35-44 years old\n",
       "4        25-34 years old\n",
       "              ...       \n",
       "73263    25-34 years old\n",
       "73264    25-34 years old\n",
       "73265    55-64 years old\n",
       "73266    55-64 years old\n",
       "73267    25-34 years old\n",
       "Name: Age, Length: 73268, dtype: object"
      ]
     },
     "execution_count": 200,
     "metadata": {},
     "output_type": "execute_result"
    }
   ],
   "source": [
    "df['Age']"
   ]
  },
  {
   "cell_type": "markdown",
   "id": "d5654f13",
   "metadata": {},
   "source": [
    "# Clean up data on age"
   ]
  },
  {
   "cell_type": "code",
   "execution_count": 219,
   "id": "ae09ac2d",
   "metadata": {},
   "outputs": [
    {
     "data": {
      "text/html": [
       "<div>\n",
       "<style scoped>\n",
       "    .dataframe tbody tr th:only-of-type {\n",
       "        vertical-align: middle;\n",
       "    }\n",
       "\n",
       "    .dataframe tbody tr th {\n",
       "        vertical-align: top;\n",
       "    }\n",
       "\n",
       "    .dataframe thead th {\n",
       "        text-align: right;\n",
       "    }\n",
       "</style>\n",
       "<table border=\"1\" class=\"dataframe\">\n",
       "  <thead>\n",
       "    <tr style=\"text-align: right;\">\n",
       "      <th></th>\n",
       "      <th>LanguageHaveWorkedWith</th>\n",
       "      <th>Age</th>\n",
       "    </tr>\n",
       "  </thead>\n",
       "  <tbody>\n",
       "    <tr>\n",
       "      <th>2</th>\n",
       "      <td>C#;C++;HTML/CSS;JavaScript;Python</td>\n",
       "      <td>25-34 years old</td>\n",
       "    </tr>\n",
       "    <tr>\n",
       "      <th>3</th>\n",
       "      <td>C#;JavaScript;SQL;TypeScript</td>\n",
       "      <td>35-44 years old</td>\n",
       "    </tr>\n",
       "    <tr>\n",
       "      <th>4</th>\n",
       "      <td>C#;HTML/CSS;JavaScript;SQL;Swift;TypeScript</td>\n",
       "      <td>25-34 years old</td>\n",
       "    </tr>\n",
       "    <tr>\n",
       "      <th>5</th>\n",
       "      <td>C++;Lua</td>\n",
       "      <td>25-34 years old</td>\n",
       "    </tr>\n",
       "    <tr>\n",
       "      <th>6</th>\n",
       "      <td>C++;HTML/CSS;JavaScript;PHP;Python;TypeScript</td>\n",
       "      <td>Under 18 years old</td>\n",
       "    </tr>\n",
       "    <tr>\n",
       "      <th>...</th>\n",
       "      <td>...</td>\n",
       "      <td>...</td>\n",
       "    </tr>\n",
       "    <tr>\n",
       "      <th>73263</th>\n",
       "      <td>Bash/Shell;Dart;JavaScript;PHP;Python;SQL;Type...</td>\n",
       "      <td>25-34 years old</td>\n",
       "    </tr>\n",
       "    <tr>\n",
       "      <th>73264</th>\n",
       "      <td>Bash/Shell;HTML/CSS;JavaScript;Python;SQL</td>\n",
       "      <td>25-34 years old</td>\n",
       "    </tr>\n",
       "    <tr>\n",
       "      <th>73265</th>\n",
       "      <td>HTML/CSS;JavaScript;PHP;Python;SQL</td>\n",
       "      <td>55-64 years old</td>\n",
       "    </tr>\n",
       "    <tr>\n",
       "      <th>73266</th>\n",
       "      <td>C#;Delphi;VBA</td>\n",
       "      <td>55-64 years old</td>\n",
       "    </tr>\n",
       "    <tr>\n",
       "      <th>73267</th>\n",
       "      <td>C#;JavaScript;Lua;PowerShell;SQL;TypeScript</td>\n",
       "      <td>25-34 years old</td>\n",
       "    </tr>\n",
       "  </tbody>\n",
       "</table>\n",
       "<p>70208 rows × 2 columns</p>\n",
       "</div>"
      ],
      "text/plain": [
       "                                  LanguageHaveWorkedWith                 Age\n",
       "2                      C#;C++;HTML/CSS;JavaScript;Python     25-34 years old\n",
       "3                           C#;JavaScript;SQL;TypeScript     35-44 years old\n",
       "4            C#;HTML/CSS;JavaScript;SQL;Swift;TypeScript     25-34 years old\n",
       "5                                                C++;Lua     25-34 years old\n",
       "6          C++;HTML/CSS;JavaScript;PHP;Python;TypeScript  Under 18 years old\n",
       "...                                                  ...                 ...\n",
       "73263  Bash/Shell;Dart;JavaScript;PHP;Python;SQL;Type...     25-34 years old\n",
       "73264          Bash/Shell;HTML/CSS;JavaScript;Python;SQL     25-34 years old\n",
       "73265                 HTML/CSS;JavaScript;PHP;Python;SQL     55-64 years old\n",
       "73266                                      C#;Delphi;VBA     55-64 years old\n",
       "73267        C#;JavaScript;Lua;PowerShell;SQL;TypeScript     25-34 years old\n",
       "\n",
       "[70208 rows x 2 columns]"
      ]
     },
     "execution_count": 219,
     "metadata": {},
     "output_type": "execute_result"
    }
   ],
   "source": [
    "# only keep responses that have both language and age\n",
    "age_raw = df[['LanguageHaveWorkedWith', 'Age']].dropna(axis=0, how='any')\n",
    "age_raw"
   ]
  },
  {
   "cell_type": "code",
   "execution_count": 203,
   "id": "d1e0dcd7",
   "metadata": {},
   "outputs": [
    {
     "data": {
      "text/plain": [
       "{'18-24 years old',\n",
       " '25-34 years old',\n",
       " '35-44 years old',\n",
       " '45-54 years old',\n",
       " '55-64 years old',\n",
       " '65 years or older',\n",
       " 'Prefer not to say',\n",
       " 'Under 18 years old'}"
      ]
     },
     "execution_count": 203,
     "metadata": {},
     "output_type": "execute_result"
    }
   ],
   "source": [
    "# see what options were submitted for age\n",
    "age_set = set()\n",
    "for response in age_raw['Age']:\n",
    "    age_set.add(response)\n",
    "age_set"
   ]
  },
  {
   "cell_type": "code",
   "execution_count": 222,
   "id": "1ebd85d1",
   "metadata": {},
   "outputs": [
    {
     "data": {
      "text/html": [
       "<div>\n",
       "<style scoped>\n",
       "    .dataframe tbody tr th:only-of-type {\n",
       "        vertical-align: middle;\n",
       "    }\n",
       "\n",
       "    .dataframe tbody tr th {\n",
       "        vertical-align: top;\n",
       "    }\n",
       "\n",
       "    .dataframe thead th {\n",
       "        text-align: right;\n",
       "    }\n",
       "</style>\n",
       "<table border=\"1\" class=\"dataframe\">\n",
       "  <thead>\n",
       "    <tr style=\"text-align: right;\">\n",
       "      <th></th>\n",
       "      <th>LanguageHaveWorkedWith</th>\n",
       "      <th>Age</th>\n",
       "    </tr>\n",
       "  </thead>\n",
       "  <tbody>\n",
       "    <tr>\n",
       "      <th>0</th>\n",
       "      <td>C#;C++;HTML/CSS;JavaScript;Python</td>\n",
       "      <td>25-34 years old</td>\n",
       "    </tr>\n",
       "    <tr>\n",
       "      <th>1</th>\n",
       "      <td>C#;JavaScript;SQL;TypeScript</td>\n",
       "      <td>35-44 years old</td>\n",
       "    </tr>\n",
       "    <tr>\n",
       "      <th>2</th>\n",
       "      <td>C#;HTML/CSS;JavaScript;SQL;Swift;TypeScript</td>\n",
       "      <td>25-34 years old</td>\n",
       "    </tr>\n",
       "    <tr>\n",
       "      <th>3</th>\n",
       "      <td>C++;Lua</td>\n",
       "      <td>25-34 years old</td>\n",
       "    </tr>\n",
       "    <tr>\n",
       "      <th>4</th>\n",
       "      <td>C++;HTML/CSS;JavaScript;PHP;Python;TypeScript</td>\n",
       "      <td>Under 18 years old</td>\n",
       "    </tr>\n",
       "    <tr>\n",
       "      <th>...</th>\n",
       "      <td>...</td>\n",
       "      <td>...</td>\n",
       "    </tr>\n",
       "    <tr>\n",
       "      <th>69698</th>\n",
       "      <td>Bash/Shell;Dart;JavaScript;PHP;Python;SQL;Type...</td>\n",
       "      <td>25-34 years old</td>\n",
       "    </tr>\n",
       "    <tr>\n",
       "      <th>69699</th>\n",
       "      <td>Bash/Shell;HTML/CSS;JavaScript;Python;SQL</td>\n",
       "      <td>25-34 years old</td>\n",
       "    </tr>\n",
       "    <tr>\n",
       "      <th>69700</th>\n",
       "      <td>HTML/CSS;JavaScript;PHP;Python;SQL</td>\n",
       "      <td>55-64 years old</td>\n",
       "    </tr>\n",
       "    <tr>\n",
       "      <th>69701</th>\n",
       "      <td>C#;Delphi;VBA</td>\n",
       "      <td>55-64 years old</td>\n",
       "    </tr>\n",
       "    <tr>\n",
       "      <th>69702</th>\n",
       "      <td>C#;JavaScript;Lua;PowerShell;SQL;TypeScript</td>\n",
       "      <td>25-34 years old</td>\n",
       "    </tr>\n",
       "  </tbody>\n",
       "</table>\n",
       "<p>69703 rows × 2 columns</p>\n",
       "</div>"
      ],
      "text/plain": [
       "                                  LanguageHaveWorkedWith                 Age\n",
       "0                      C#;C++;HTML/CSS;JavaScript;Python     25-34 years old\n",
       "1                           C#;JavaScript;SQL;TypeScript     35-44 years old\n",
       "2            C#;HTML/CSS;JavaScript;SQL;Swift;TypeScript     25-34 years old\n",
       "3                                                C++;Lua     25-34 years old\n",
       "4          C++;HTML/CSS;JavaScript;PHP;Python;TypeScript  Under 18 years old\n",
       "...                                                  ...                 ...\n",
       "69698  Bash/Shell;Dart;JavaScript;PHP;Python;SQL;Type...     25-34 years old\n",
       "69699          Bash/Shell;HTML/CSS;JavaScript;Python;SQL     25-34 years old\n",
       "69700                 HTML/CSS;JavaScript;PHP;Python;SQL     55-64 years old\n",
       "69701                                      C#;Delphi;VBA     55-64 years old\n",
       "69702        C#;JavaScript;Lua;PowerShell;SQL;TypeScript     25-34 years old\n",
       "\n",
       "[69703 rows x 2 columns]"
      ]
     },
     "execution_count": 222,
     "metadata": {},
     "output_type": "execute_result"
    }
   ],
   "source": [
    "# let's drop any responses that prefer not to say (this is no better than NaN)\n",
    "age_raw = age_raw[age_raw['Age'] != 'Prefer not to say'].reset_index()\n",
    "age_raw = age_raw[['LanguageHaveWorkedWith', 'Age']]\n",
    "age_raw"
   ]
  },
  {
   "cell_type": "code",
   "execution_count": 245,
   "id": "4d53ff47",
   "metadata": {},
   "outputs": [
    {
     "data": {
      "text/plain": [
       "{'Elixir': 33.355614973262036,\n",
       " 'Objective-C': 34.13917216556688,\n",
       " 'F#': 32.775453277545324,\n",
       " 'SAS': 33.0188679245283,\n",
       " 'Lua': 26.82195738533767,\n",
       " 'HTML/CSS': 29.901700733343734,\n",
       " 'Fortran': 38.27697262479871,\n",
       " 'Delphi': 46.17256637168141,\n",
       " 'Rust': 27.62095531587057,\n",
       " 'Assembly': 28.122848821816255,\n",
       " 'APL': 33.65145228215768,\n",
       " 'Python': 29.130018834643785,\n",
       " 'Kotlin': 29.265095958807926,\n",
       " 'COBOL': 41.286031042128606,\n",
       " 'C++': 28.39374601148692,\n",
       " 'Java': 30.401960411838456,\n",
       " 'Haskell': 27.21216041397154,\n",
       " 'C': 30.587848377215238,\n",
       " 'SQL': 32.13007332140177,\n",
       " 'OCaml': 28.57843137254902,\n",
       " 'Groovy': 34.120190229139645,\n",
       " 'Perl': 39.040752351097176,\n",
       " 'C#': 31.56641283794143,\n",
       " 'Bash/Shell': 31.885173128144423,\n",
       " 'TypeScript': 30.269784172661872,\n",
       " 'Swift': 31.86694021101993,\n",
       " 'PowerShell': 32.33230623370467,\n",
       " 'R': 30.092389602254933,\n",
       " 'MATLAB': 28.45508563439357,\n",
       " 'Ruby': 33.230914677381236,\n",
       " 'Erlang': 33.649517684887456,\n",
       " 'VBA': 35.217111611450626,\n",
       " 'LISP': 33.00330033003301,\n",
       " 'JavaScript': 30.3959962327792,\n",
       " 'Clojure': 35.01429933269781,\n",
       " 'Dart': 27.165354330708663,\n",
       " 'Julia': 32.15238095238095,\n",
       " 'Scala': 32.77900552486188,\n",
       " 'Solidity': 28.558736426456072,\n",
       " 'Crystal': 35.670731707317074,\n",
       " 'Go': 30.600334233191926,\n",
       " 'PHP': 30.743331276143454}"
      ]
     },
     "execution_count": 245,
     "metadata": {},
     "output_type": "execute_result"
    }
   ],
   "source": [
    "# Let's assign a \"normalized age\" to each range from 10 - 70\n",
    "agerange = {\n",
    "    'Under 18 years old': 10,\n",
    "    '18-24 years old': 20,\n",
    "    '25-34 years old': 30,\n",
    "    '35-44 years old': 40,\n",
    "    '45-54 years old': 50,\n",
    "    '55-64 years old': 60,\n",
    "    '65 years or older': 70\n",
    "}\n",
    "\n",
    "# now let's iterate through all responses, and count up how\n",
    "# often each language is used by a particular age group, and\n",
    "# use this to give each language and \"age\" rating between 10-70.\n",
    "lang_age_dict = {}\n",
    "lang_counts_dict = {}\n",
    "# initialize dicts\n",
    "for lang in langs:\n",
    "    lang_age_dict[lang] = 0\n",
    "    lang_counts_dict[lang] = 0\n",
    "# iterate through data\n",
    "for ii, row in age_raw.iterrows():\n",
    "    for lang in langs:\n",
    "        if lang in row['LanguageHaveWorkedWith']:\n",
    "            lang_counts_dict[lang] += 1\n",
    "            lang_age_dict[lang] += agerange[row['Age']]\n",
    "# normalize language \"ages\" by counts\n",
    "for lang in langs:\n",
    "    lang_age_dict[lang] = lang_age_dict[lang]/lang_counts_dict[lang]\n",
    "\n",
    "lang_age_dict"
   ]
  },
  {
   "cell_type": "code",
   "execution_count": 248,
   "id": "d82f8199",
   "metadata": {},
   "outputs": [],
   "source": [
    "lang_age = pd.DataFrame(pd.Series(lang_age_dict)).reset_index()\n",
    "lang_age.columns = ['language', 'age']\n",
    "lang_age.set_index('language', inplace=True)\n",
    "lang_age.sort_values('age', ascending=True, inplace=True)"
   ]
  },
  {
   "cell_type": "code",
   "execution_count": 251,
   "id": "3635083a",
   "metadata": {},
   "outputs": [
    {
     "data": {
      "text/plain": [
       "{'Elixir': 10.391880727260865,\n",
       " 'Objective-C': 11.336583418730283,\n",
       " 'F#': 11.902488985140936,\n",
       " 'SAS': 12.375402514571025,\n",
       " 'Lua': 12.156931376589919,\n",
       " 'HTML/CSS': 11.149919551570095,\n",
       " 'Fortran': 15.092647894409673,\n",
       " 'Delphi': 12.836492144736212,\n",
       " 'Rust': 10.668470532093705,\n",
       " 'Assembly': 13.202873121286089,\n",
       " 'APL': 15.724115526610628,\n",
       " 'Python': 11.230975853505845,\n",
       " 'Kotlin': 10.050881646412057,\n",
       " 'COBOL': 15.305760403922214,\n",
       " 'C++': 12.115880045340297,\n",
       " 'Java': 10.964031843127621,\n",
       " 'Haskell': 10.976996156558451,\n",
       " 'C': 11.526490120294268,\n",
       " 'SQL': 11.153031036941364,\n",
       " 'OCaml': 11.75479566257193,\n",
       " 'Groovy': 10.376288008669993,\n",
       " 'Perl': 13.183830485402279,\n",
       " 'C#': 11.730019981206366,\n",
       " 'Bash/Shell': 11.291182845670981,\n",
       " 'TypeScript': 9.826859989784825,\n",
       " 'Swift': 11.67917645294093,\n",
       " 'PowerShell': 11.827051346613008,\n",
       " 'R': 10.849780660946328,\n",
       " 'MATLAB': 10.260014902697389,\n",
       " 'Ruby': 10.305352141514692,\n",
       " 'Erlang': 10.908534879070013,\n",
       " 'VBA': 13.063647168533697,\n",
       " 'LISP': 14.021082275763465,\n",
       " 'JavaScript': 10.938845018332742,\n",
       " 'Clojure': 11.336973328945,\n",
       " 'Dart': 9.961243709022071,\n",
       " 'Julia': 12.502785177239852,\n",
       " 'Scala': 10.085863478400864,\n",
       " 'Solidity': 10.45347683167236,\n",
       " 'Crystal': 14.29783787001681,\n",
       " 'Go': 10.50037762242451,\n",
       " 'PHP': 11.11657752593828}"
      ]
     },
     "execution_count": 251,
     "metadata": {},
     "output_type": "execute_result"
    }
   ],
   "source": [
    "from math import sqrt\n",
    "\n",
    "# Now let's get the standard deviation\n",
    "lang_age_stdev_dict = {}\n",
    "# initialize dict\n",
    "for lang in langs:\n",
    "    lang_age_stdev_dict[lang] = 0\n",
    "# iterate through data\n",
    "for ii, row in age_raw.iterrows():\n",
    "    for lang in langs:\n",
    "        if lang in row['LanguageHaveWorkedWith']:\n",
    "            # calculate square difference for now, we'll convert to stdev later\n",
    "            lang_age_stdev_dict[lang] += \\\n",
    "                (agerange[row['Age']] - lang_age_dict[lang])**2\n",
    "# normalize and take square root to get stdev\n",
    "for lang in langs:\n",
    "    lang_age_stdev_dict[lang] = sqrt(lang_age_stdev_dict[lang]/lang_counts_dict[lang])\n",
    "\n",
    "lang_age_stdev_dict"
   ]
  },
  {
   "cell_type": "code",
   "execution_count": 252,
   "id": "c8588051",
   "metadata": {},
   "outputs": [],
   "source": [
    "lang_age_stdev = pd.DataFrame(pd.Series(lang_age_stdev_dict)).reset_index()\n",
    "lang_age_stdev.columns = ['language', 'age']\n",
    "lang_age_stdev.set_index('language', inplace=True)\n",
    "lang_age_stdev.sort_values('age', ascending=True, inplace=True)"
   ]
  },
  {
   "cell_type": "markdown",
   "id": "9c95ce82",
   "metadata": {},
   "source": [
    "# Analyze age data"
   ]
  },
  {
   "cell_type": "code",
   "execution_count": 249,
   "id": "108c5095",
   "metadata": {},
   "outputs": [
    {
     "data": {
      "text/plain": [
       "(-0.5, 41.5, 25.0, 50.0)"
      ]
     },
     "execution_count": 249,
     "metadata": {},
     "output_type": "execute_result"
    },
    {
     "data": {
      "image/png": "[encoded data removed]",
      "text/plain": [
       "<Figure size 576x360 with 1 Axes>"
      ]
     },
     "metadata": {
      "needs_background": "light"
     },
     "output_type": "display_data"
    }
   ],
   "source": [
    "(lang_age).plot(kind='bar', legend=None, color=\"#999900\", figsize=(8, 5))\n",
    "plt.title('Programming Language vs User Age')\n",
    "plt.xlabel('Langauge')\n",
    "plt.ylabel('\"Age\" of user on scale of 10 - 70')\n",
    "plt.axis([None, None, 25, 50])"
   ]
  },
  {
   "cell_type": "code",
   "execution_count": 258,
   "id": "c449b713",
   "metadata": {},
   "outputs": [
    {
     "data": {
      "text/plain": [
       "(-0.5, 41.5, 9.0, 16.0)"
      ]
     },
     "execution_count": 258,
     "metadata": {},
     "output_type": "execute_result"
    },
    {
     "data": {
      "image/png": "[encoded data removed]",
      "text/plain": [
       "<Figure size 576x360 with 1 Axes>"
      ]
     },
     "metadata": {
      "needs_background": "light"
     },
     "output_type": "display_data"
    }
   ],
   "source": [
    "(lang_age_stdev).plot(kind='bar', legend=None, color=\"#009999\", figsize=(8, 5))\n",
    "plt.title('Programming Language vs User Age Spread')\n",
    "plt.xlabel('Langauge')\n",
    "plt.ylabel('\"Age\" spread of user')\n",
    "plt.axis([None, None, 9, 16])"
   ]
  },
  {
   "cell_type": "code",
   "execution_count": null,
   "id": "caacc29c",
   "metadata": {},
   "outputs": [],
   "source": []
  }
 ],
 "metadata": {
  "kernelspec": {
   "display_name": "Python 3 (ipykernel)",
   "language": "python",
   "name": "python3"
  },
  "language_info": {
   "codemirror_mode": {
    "name": "ipython",
    "version": 3
   },
   "file_extension": ".py",
   "mimetype": "text/x-python",
   "name": "python",
   "nbconvert_exporter": "python",
   "pygments_lexer": "ipython3",
   "version": "3.9.12"
  }
 },
 "nbformat": 4,
 "nbformat_minor": 5
}
